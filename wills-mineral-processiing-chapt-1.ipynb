{
 "cells": [
  {
   "cell_type": "markdown",
   "metadata": {},
   "source": [
    " # From Wills' Mineral Processing Technology, 8th Edition, Chapter 1"
   ]
  },
  {
   "cell_type": "markdown",
   "metadata": {},
   "source": [
    "## Example 1.1\n",
    "\n",
    "Given a tin concentration of 2.00% in an ore, what is the concentration of cassiterite ($\\mathrm{SnO_2}$)?\n",
    "\n",
    "ある鉱石にスズが2%含まれている。錫石(すずいし; $\\mathrm{SnO_2}$)の濃度は何%か?"
   ]
  },
  {
   "cell_type": "code",
   "execution_count": 20,
   "metadata": {},
   "outputs": [
    {
     "name": "stdout",
     "output_type": "stream",
     "text": [
      "2.54 %\n"
     ]
    }
   ],
   "source": [
    "M_Sn = 118.71 # g/mol (スズのモル質量; 原子量)\n",
    "M_O = 15.99 # g/mol (酸素のモル質量; 原子量)\n",
    "\n",
    "M_SnO2 = M_Sn + M_O *2\n",
    "\n",
    "# (1) スズの重量 / 鉱石の重量 = 2 / 100\n",
    "# (2) 錫石の重量 / 鉱石の重量 = 解答 / 100\n",
    "# (3) スズの重量 = 錫石の重量 * (M_Sn / M_SnO2)\n",
    "\n",
    "# (1)と(2)より\n",
    "# 錫石の重量 / スズの重量 = 解答 / 2 … (4)\n",
    "\n",
    "# (3)と(4)より\n",
    "# M_SnO2 / M_Sn = 解答 / 2\n",
    "# 解答 = M_SnO2 / M_Sn * 2\n",
    "\n",
    "print(round(M_SnO2 / M_Sn * 2, 2), \"%\")"
   ]
  },
  {
   "cell_type": "markdown",
   "metadata": {},
   "source": [
    "## Example 1.2\n",
    "\n",
    "A sample contains three phases, chalcopyrite ($\\mathrm{CuFeS_2}$), pyrite ($\\mathrm{FeS_2}$), and non-sulfides (containing no Cu or Fe). If the Cu concentration is 22.5% and the Fe concentration is 25.6%, what is the concentration of pyrite and of the non-sulfides?\n",
    "\n",
    "サンプルは以下の3相からなっている。\n",
    "* 黄銅鉱 ($\\mathrm{CuFeS_2}$)\n",
    "* 黄鉄鉱 ($\\mathrm{FeS_2}$)\n",
    "* 非硫化物 (CuとFeを含まない)\n",
    "\n",
    "Cu濃度が22.5%であり、Fe濃度が25.6%であるとき、黄鉄鉱の濃度と非硫化物の濃度はいくらか?"
   ]
  },
  {
   "cell_type": "code",
   "execution_count": 27,
   "metadata": {},
   "outputs": [
    {
     "name": "stdout",
     "output_type": "stream",
     "text": [
      "黄鉄鉱の濃度(%): 12.5\n",
      "非硫化物の濃度(%): 22.5\n"
     ]
    }
   ],
   "source": [
    "M_Cu = 63.54 # g/mol (銅のモル濃度; 原子量)\n",
    "M_Fe = 55.85 # g/mol (鉄のモル濃度; 原子量)\n",
    "M_S = 32.06 # g/mol (硫黄のモル濃度; 原子量)\n",
    "\n",
    "# サンプルの重量を100 gであるとして考える。\n",
    "# するとCu重量は22.5 g、Fe重量は25.6 gとなる。\n",
    "Mol_of_Cu = 22.5 / M_Cu\n",
    "Mol_of_Fe = 25.6 / M_Fe\n",
    "\n",
    "# 黄銅鉱が何モルあるか考える。全てのCuが黄銅鉱になると考えて、\n",
    "Mol_of_CuFeS2 = Mol_of_Cu\n",
    "\n",
    "# 残ったFeは何モルか考える。この残ったFeが黄鉄鉱に由来する。\n",
    "Mol_of_FeS2 = Mol_of_Fe - Mol_of_CuFeS2\n",
    "\n",
    "# Mol_of_FeS2モルの黄鉄鉱は何gか?\n",
    "g_of_FeS2 = Mol_of_FeS2 * (M_Fe + M_S * 2)\n",
    "\n",
    "# サンプルは100 gなので、\n",
    "Percent_of_FeS2 = g_of_FeS2 / 100 * 100\n",
    "print(\"黄鉄鉱の濃度(%):\", round(Percent_of_FeS2, 1))\n",
    "\n",
    "# 非硫化物濃度 = 100 - 黄銅鉱濃度 - 黄鉄鉱濃度\n",
    "# なので、黄銅鉱濃度を求める。\n",
    "g_of_CuFeS2 = Mol_of_CuFeS2 * (M_Cu + M_Fe + M_S * 2)\n",
    "Percent_of_CuFeS2 = g_of_CuFeS2 * 100 / 100\n",
    "Percent_of_NonSulfides = 100 - Percent_of_CuFeS2 - Percent_of_FeS2\n",
    "\n",
    "print(\"非硫化物の濃度(%):\", round(Percent_of_NonSulfides, 1))"
   ]
  }
 ],
 "metadata": {
  "kernelspec": {
   "display_name": "Python 3",
   "language": "python",
   "name": "python3"
  },
  "language_info": {
   "codemirror_mode": {
    "name": "ipython",
    "version": 3
   },
   "file_extension": ".py",
   "mimetype": "text/x-python",
   "name": "python",
   "nbconvert_exporter": "python",
   "pygments_lexer": "ipython3",
   "version": "3.8.5"
  }
 },
 "nbformat": 4,
 "nbformat_minor": 4
}
